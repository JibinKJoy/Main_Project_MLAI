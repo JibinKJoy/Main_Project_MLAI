{
  "nbformat": 4,
  "nbformat_minor": 0,
  "metadata": {
    "colab": {
      "provenance": []
    },
    "kernelspec": {
      "name": "python3",
      "display_name": "Python 3"
    },
    "language_info": {
      "name": "python"
    },
    "gpuClass": "standard",
    "accelerator": "GPU"
  },
  "cells": [
    {
      "cell_type": "code",
      "source": [
        "!git clone https://github.com/AjumaML/Hand_Recognition_Project.git"
      ],
      "metadata": {
        "colab": {
          "base_uri": "https://localhost:8080/"
        },
        "id": "GvuUquDCb-0f",
        "outputId": "51d2b07f-45ff-451c-bae7-a3af5d52188d"
      },
      "execution_count": null,
      "outputs": [
        {
          "output_type": "stream",
          "name": "stdout",
          "text": [
            "Cloning into 'Hand_Recognition_Project'...\n",
            "remote: Enumerating objects: 2424, done.\u001b[K\n",
            "remote: Counting objects: 100% (2424/2424), done.\u001b[K\n",
            "remote: Compressing objects: 100% (2416/2416), done.\u001b[K\n",
            "remote: Total 2424 (delta 7), reused 2420 (delta 6), pack-reused 0\u001b[K\n",
            "Receiving objects: 100% (2424/2424), 3.75 MiB | 34.89 MiB/s, done.\n",
            "Resolving deltas: 100% (7/7), done.\n"
          ]
        }
      ]
    },
    {
      "cell_type": "code",
      "execution_count": null,
      "metadata": {
        "id": "mYblOQVo9mlE"
      },
      "outputs": [],
      "source": [
        "#Importing libraries\n",
        "\n",
        "import numpy as np\n",
        "from imutils import paths\n",
        "import os"
      ]
    },
    {
      "cell_type": "code",
      "source": [
        "imagePaths = list(paths.list_images('/content/Hand_Recognition_Project/dataset'))"
      ],
      "metadata": {
        "id": "K4jZxOX4ZVVK"
      },
      "execution_count": null,
      "outputs": []
    },
    {
      "cell_type": "code",
      "source": [
        "imagePaths[1000]"
      ],
      "metadata": {
        "colab": {
          "base_uri": "https://localhost:8080/",
          "height": 35
        },
        "id": "BU3P3gQycEsi",
        "outputId": "15f65ff4-9119-4936-e010-eb7aec696645"
      },
      "execution_count": null,
      "outputs": [
        {
          "output_type": "execute_result",
          "data": {
            "text/plain": [
              "'/content/Hand_Recognition_Project/dataset/Volume_Up/486.jpg'"
            ],
            "application/vnd.google.colaboratory.intrinsic+json": {
              "type": "string"
            }
          },
          "metadata": {},
          "execution_count": 4
        }
      ]
    },
    {
      "cell_type": "code",
      "source": [
        "label = imagePaths[0].split(os.path.sep)[-2]\n",
        "label"
      ],
      "metadata": {
        "colab": {
          "base_uri": "https://localhost:8080/",
          "height": 35
        },
        "id": "Wz82Og-fcG1h",
        "outputId": "667d3120-92f2-429a-f5e4-e6c75634b98c"
      },
      "execution_count": null,
      "outputs": [
        {
          "output_type": "execute_result",
          "data": {
            "text/plain": [
              "'Volume_Down'"
            ],
            "application/vnd.google.colaboratory.intrinsic+json": {
              "type": "string"
            }
          },
          "metadata": {},
          "execution_count": 5
        }
      ]
    },
    {
      "cell_type": "code",
      "source": [
        "from tensorflow.keras.preprocessing.image import img_to_array\n",
        "from tensorflow.keras.preprocessing.image import load_img"
      ],
      "metadata": {
        "id": "RmKYHbi0cMMh"
      },
      "execution_count": null,
      "outputs": []
    },
    {
      "cell_type": "code",
      "source": [
        "data = []\n",
        "labels = []\n",
        "\n",
        "IMG_SIZE = 224\n",
        "CHANNELS = 3\n",
        "\n",
        "for imagePath in imagePaths:\n",
        "  label = imagePath.split(os.path.sep)[-2]\n",
        "  image = load_img(imagePath, target_size=(IMG_SIZE, IMG_SIZE))\n",
        "  image = img_to_array(image)\n",
        "  image = image/255\n",
        "\n",
        "  data.append(image)\n",
        "  labels.append(label)\n",
        "\n",
        "\n",
        "data = np.array(data, dtype=\"float32\")\n",
        "labels = np.array(labels)"
      ],
      "metadata": {
        "id": "BouYeqeDcUDp"
      },
      "execution_count": null,
      "outputs": []
    },
    {
      "cell_type": "code",
      "source": [
        "data.shape"
      ],
      "metadata": {
        "colab": {
          "base_uri": "https://localhost:8080/"
        },
        "id": "_B4foN62ckSq",
        "outputId": "510358c6-6861-4229-b10a-df8a583e3c44"
      },
      "execution_count": null,
      "outputs": [
        {
          "output_type": "execute_result",
          "data": {
            "text/plain": [
              "(2400, 224, 224, 3)"
            ]
          },
          "metadata": {},
          "execution_count": 8
        }
      ]
    },
    {
      "cell_type": "code",
      "source": [
        "labels.shape"
      ],
      "metadata": {
        "colab": {
          "base_uri": "https://localhost:8080/"
        },
        "id": "VizzD9FHctwL",
        "outputId": "db240eb1-289f-4c8f-c17c-ccf96a44bf47"
      },
      "execution_count": null,
      "outputs": [
        {
          "output_type": "execute_result",
          "data": {
            "text/plain": [
              "(2400,)"
            ]
          },
          "metadata": {},
          "execution_count": 9
        }
      ]
    },
    {
      "cell_type": "code",
      "source": [
        "labels\n"
      ],
      "metadata": {
        "colab": {
          "base_uri": "https://localhost:8080/"
        },
        "id": "IxSyocVPct_x",
        "outputId": "e19a2981-d33f-4b5c-b32b-74aa0b829be1"
      },
      "execution_count": null,
      "outputs": [
        {
          "output_type": "execute_result",
          "data": {
            "text/plain": [
              "array(['Volume_Down', 'Volume_Down', 'Volume_Down', ..., 'play', 'play',\n",
              "       'play'], dtype='<U11')"
            ]
          },
          "metadata": {},
          "execution_count": 10
        }
      ]
    },
    {
      "cell_type": "code",
      "source": [
        "np. unique(labels, return_counts=True)"
      ],
      "metadata": {
        "colab": {
          "base_uri": "https://localhost:8080/"
        },
        "id": "7JoZQQQNcwJK",
        "outputId": "1b54005c-13c1-400a-d399-0fcfd5fd9a5b"
      },
      "execution_count": null,
      "outputs": [
        {
          "output_type": "execute_result",
          "data": {
            "text/plain": [
              "(array(['Volume_Down', 'Volume_Up', 'play', 'stop'], dtype='<U11'),\n",
              " array([900, 900, 300, 300]))"
            ]
          },
          "metadata": {},
          "execution_count": 11
        }
      ]
    },
    {
      "cell_type": "code",
      "source": [
        "# Preprocessing the label by encoding them\n",
        "\n",
        "from sklearn import preprocessing\n",
        "le = preprocessing.LabelEncoder()\n",
        "labels = le.fit_transform(labels)"
      ],
      "metadata": {
        "id": "hinyeohuczXq"
      },
      "execution_count": null,
      "outputs": []
    },
    {
      "cell_type": "code",
      "source": [
        "labels[100]"
      ],
      "metadata": {
        "colab": {
          "base_uri": "https://localhost:8080/"
        },
        "id": "afwPlfIKc10z",
        "outputId": "ac6c8f3b-e6d9-4ffc-d348-4733353e61ae"
      },
      "execution_count": null,
      "outputs": [
        {
          "output_type": "execute_result",
          "data": {
            "text/plain": [
              "0"
            ]
          },
          "metadata": {},
          "execution_count": 13
        }
      ]
    },
    {
      "cell_type": "code",
      "source": [
        "from tensorflow.keras.utils import to_categorical\n",
        "labels = to_categorical(labels)"
      ],
      "metadata": {
        "id": "BfqoXRZqdFrK"
      },
      "execution_count": null,
      "outputs": []
    },
    {
      "cell_type": "code",
      "source": [
        "labels"
      ],
      "metadata": {
        "colab": {
          "base_uri": "https://localhost:8080/"
        },
        "id": "51PapX4edSn5",
        "outputId": "3cd73156-6861-430f-d464-92f43846575c"
      },
      "execution_count": null,
      "outputs": [
        {
          "output_type": "execute_result",
          "data": {
            "text/plain": [
              "array([[1., 0., 0., 0.],\n",
              "       [1., 0., 0., 0.],\n",
              "       [1., 0., 0., 0.],\n",
              "       ...,\n",
              "       [0., 0., 1., 0.],\n",
              "       [0., 0., 1., 0.],\n",
              "       [0., 0., 1., 0.]], dtype=float32)"
            ]
          },
          "metadata": {},
          "execution_count": 15
        }
      ]
    },
    {
      "cell_type": "code",
      "source": [
        "# Splitting the dataset into train and test\n",
        "\n",
        "from sklearn.model_selection import train_test_split\n",
        "(trainX, testX, trainY, testY) = train_test_split(data, labels,\ttest_size=0.20, stratify=labels, random_state=42)"
      ],
      "metadata": {
        "id": "nZd6F0OBdb64"
      },
      "execution_count": null,
      "outputs": []
    },
    {
      "cell_type": "code",
      "source": [
        "from tensorflow.keras.applications import ResNet50V2\n",
        "from tensorflow.keras.layers import Input"
      ],
      "metadata": {
        "id": "7LjLKcoqdeXQ"
      },
      "execution_count": null,
      "outputs": []
    },
    {
      "cell_type": "code",
      "source": [
        "feature_extractor_layer = ResNet50V2(weights=\"imagenet\", include_top=False,\n",
        "\tinput_tensor=Input(shape=(IMG_SIZE,IMG_SIZE,CHANNELS)))"
      ],
      "metadata": {
        "id": "m2IdsZWqd9X2",
        "colab": {
          "base_uri": "https://localhost:8080/"
        },
        "outputId": "2a17e999-51e3-4922-ad32-de48ad84862e"
      },
      "execution_count": null,
      "outputs": [
        {
          "output_type": "stream",
          "name": "stdout",
          "text": [
            "Downloading data from https://storage.googleapis.com/tensorflow/keras-applications/resnet/resnet50v2_weights_tf_dim_ordering_tf_kernels_notop.h5\n",
            "94668760/94668760 [==============================] - 6s 0us/step\n"
          ]
        }
      ]
    },
    {
      "cell_type": "code",
      "source": [
        "feature_extractor_layer.trainable = False"
      ],
      "metadata": {
        "id": "NMVaJh3Qd_iI"
      },
      "execution_count": null,
      "outputs": []
    },
    {
      "cell_type": "code",
      "source": [
        "import tensorflow as tf\n",
        "from tensorflow.keras import layers\n",
        "from tensorflow.keras.optimizers import Adam"
      ],
      "metadata": {
        "id": "MMfLzDXdeEbp"
      },
      "execution_count": null,
      "outputs": []
    },
    {
      "cell_type": "code",
      "source": [
        "# Model building\n",
        "\n",
        "model = tf.keras.Sequential()\n",
        "model.add(feature_extractor_layer)\n",
        "model.add(layers.Flatten(name=\"flatten\"))\n",
        "model.add(layers.Dense(1024, activation='relu', name='hidden_layer'))\n",
        "model.add(layers.Dropout(0.5))\n",
        "model.add(layers.Dense(4, activation='softmax', name='output'))"
      ],
      "metadata": {
        "id": "Ms8NdZXTeGJ_"
      },
      "execution_count": null,
      "outputs": []
    },
    {
      "cell_type": "code",
      "source": [
        "model.summary()"
      ],
      "metadata": {
        "colab": {
          "base_uri": "https://localhost:8080/"
        },
        "id": "qd8XVJNTeIcY",
        "outputId": "41838cd2-20e6-41d7-ad33-01bbac8c3620"
      },
      "execution_count": null,
      "outputs": [
        {
          "output_type": "stream",
          "name": "stdout",
          "text": [
            "Model: \"sequential\"\n",
            "_________________________________________________________________\n",
            " Layer (type)                Output Shape              Param #   \n",
            "=================================================================\n",
            " resnet50v2 (Functional)     (None, 7, 7, 2048)        23564800  \n",
            "                                                                 \n",
            " flatten (Flatten)           (None, 100352)            0         \n",
            "                                                                 \n",
            " hidden_layer (Dense)        (None, 1024)              102761472 \n",
            "                                                                 \n",
            " dropout (Dropout)           (None, 1024)              0         \n",
            "                                                                 \n",
            " output (Dense)              (None, 4)                 4100      \n",
            "                                                                 \n",
            "=================================================================\n",
            "Total params: 126,330,372\n",
            "Trainable params: 102,765,572\n",
            "Non-trainable params: 23,564,800\n",
            "_________________________________________________________________\n"
          ]
        }
      ]
    },
    {
      "cell_type": "code",
      "source": [
        "model.compile(\n",
        "  optimizer=tf.keras.optimizers.Adam(learning_rate=1e-5),\n",
        "  loss=\"categorical_crossentropy\",\n",
        "  metrics=[\"accuracy\"])"
      ],
      "metadata": {
        "id": "e6I346dEeSQF"
      },
      "execution_count": null,
      "outputs": []
    },
    {
      "cell_type": "code",
      "source": [
        "from tensorflow.keras.preprocessing.image import ImageDataGenerator\n",
        "aug = ImageDataGenerator(\n",
        "\trotation_range=20,\n",
        "\tzoom_range=0.15,\n",
        "\twidth_shift_range=0.2,\n",
        "\theight_shift_range=0.2,\n",
        "\tshear_range=0.15,\n",
        "\thorizontal_flip=True,\n",
        "\tfill_mode=\"nearest\")"
      ],
      "metadata": {
        "id": "9Qqv3LUOeUIG"
      },
      "execution_count": null,
      "outputs": []
    },
    {
      "cell_type": "code",
      "source": [
        "history = model.fit(aug.flow(trainX, trainY),\n",
        "\t                  validation_data=(testX, testY),\n",
        "\t                  epochs=10)"
      ],
      "metadata": {
        "colab": {
          "base_uri": "https://localhost:8080/"
        },
        "id": "en5WcQDAeVzW",
        "outputId": "450054eb-f9de-4a0c-a639-de143d039af4"
      },
      "execution_count": null,
      "outputs": [
        {
          "output_type": "stream",
          "name": "stdout",
          "text": [
            "Epoch 1/10\n",
            "60/60 [==============================] - 33s 377ms/step - loss: 0.2506 - accuracy: 0.9281 - val_loss: 1.9482e-05 - val_accuracy: 1.0000\n",
            "Epoch 2/10\n",
            "60/60 [==============================] - 24s 399ms/step - loss: 0.0130 - accuracy: 0.9937 - val_loss: 9.1398e-06 - val_accuracy: 1.0000\n",
            "Epoch 3/10\n",
            "60/60 [==============================] - 23s 381ms/step - loss: 0.0125 - accuracy: 0.9953 - val_loss: 3.2803e-06 - val_accuracy: 1.0000\n",
            "Epoch 4/10\n",
            "60/60 [==============================] - 23s 389ms/step - loss: 0.0022 - accuracy: 0.9995 - val_loss: 1.3388e-06 - val_accuracy: 1.0000\n",
            "Epoch 5/10\n",
            "60/60 [==============================] - 24s 395ms/step - loss: 0.0039 - accuracy: 0.9979 - val_loss: 9.1436e-06 - val_accuracy: 1.0000\n",
            "Epoch 6/10\n",
            "60/60 [==============================] - 22s 363ms/step - loss: 0.0027 - accuracy: 0.9990 - val_loss: 2.3918e-06 - val_accuracy: 1.0000\n",
            "Epoch 7/10\n",
            "60/60 [==============================] - 23s 385ms/step - loss: 0.0021 - accuracy: 0.9995 - val_loss: 2.1284e-07 - val_accuracy: 1.0000\n",
            "Epoch 8/10\n",
            "60/60 [==============================] - 23s 389ms/step - loss: 0.0010 - accuracy: 1.0000 - val_loss: 1.0207e-07 - val_accuracy: 1.0000\n",
            "Epoch 9/10\n",
            "60/60 [==============================] - 23s 386ms/step - loss: 0.0033 - accuracy: 0.9990 - val_loss: 2.9529e-07 - val_accuracy: 1.0000\n",
            "Epoch 10/10\n",
            "60/60 [==============================] - 23s 384ms/step - loss: 7.5640e-04 - accuracy: 1.0000 - val_loss: 1.1300e-07 - val_accuracy: 1.0000\n"
          ]
        }
      ]
    },
    {
      "cell_type": "code",
      "source": [
        "from sklearn.metrics import classification_report"
      ],
      "metadata": {
        "id": "Lq3fn6oreX2-"
      },
      "execution_count": null,
      "outputs": []
    },
    {
      "cell_type": "code",
      "source": [
        "predIdxs = model.predict(testX)"
      ],
      "metadata": {
        "colab": {
          "base_uri": "https://localhost:8080/"
        },
        "id": "_SeUUKZ_lT93",
        "outputId": "684eb038-6ecc-4ea9-883b-7a8aac01a5db"
      },
      "execution_count": null,
      "outputs": [
        {
          "output_type": "stream",
          "name": "stdout",
          "text": [
            "15/15 [==============================] - 2s 91ms/step\n"
          ]
        }
      ]
    },
    {
      "cell_type": "code",
      "source": [
        "predIdxs[0]"
      ],
      "metadata": {
        "colab": {
          "base_uri": "https://localhost:8080/"
        },
        "id": "z9h5G5GWjqpa",
        "outputId": "86cfa5bf-6072-487e-a2c7-a42297009e1f"
      },
      "execution_count": null,
      "outputs": [
        {
          "output_type": "execute_result",
          "data": {
            "text/plain": [
              "array([2.8353731e-11, 1.0000000e+00, 3.4977379e-09, 3.1036922e-09],\n",
              "      dtype=float32)"
            ]
          },
          "metadata": {},
          "execution_count": 28
        }
      ]
    },
    {
      "cell_type": "code",
      "source": [
        "predIdxs = np.argmax(predIdxs, axis=1)"
      ],
      "metadata": {
        "id": "7VQW-tGAjq4r"
      },
      "execution_count": null,
      "outputs": []
    },
    {
      "cell_type": "code",
      "source": [
        "print(classification_report(testY.argmax(axis=1), predIdxs,target_names=le.classes_))"
      ],
      "metadata": {
        "colab": {
          "base_uri": "https://localhost:8080/"
        },
        "id": "4FEzyP5MjsbS",
        "outputId": "2e9ac901-1606-4d87-ae0c-42e8a1ff7388"
      },
      "execution_count": null,
      "outputs": [
        {
          "output_type": "stream",
          "name": "stdout",
          "text": [
            "              precision    recall  f1-score   support\n",
            "\n",
            " Volume_Down       1.00      1.00      1.00       180\n",
            "   Volume_Up       1.00      1.00      1.00       180\n",
            "        play       1.00      1.00      1.00        60\n",
            "        stop       1.00      1.00      1.00        60\n",
            "\n",
            "    accuracy                           1.00       480\n",
            "   macro avg       1.00      1.00      1.00       480\n",
            "weighted avg       1.00      1.00      1.00       480\n",
            "\n"
          ]
        }
      ]
    },
    {
      "cell_type": "code",
      "source": [
        "model.save('model_gesture_recognition.h5', save_format=\"h5\")"
      ],
      "metadata": {
        "id": "hL_0jZonjxQj"
      },
      "execution_count": null,
      "outputs": []
    },
    {
      "cell_type": "code",
      "source": [
        "model = tf.keras.models.load_model('/content/model_hand_gesture.h5')"
      ],
      "metadata": {
        "id": "epsMgVGAkWnh"
      },
      "execution_count": null,
      "outputs": []
    },
    {
      "cell_type": "code",
      "source": [
        "image = load_img('/content/20221230_214250.jpg',target_size=(IMG_SIZE, IMG_SIZE))\n",
        "image = img_to_array(image)\n",
        "image = image/255"
      ],
      "metadata": {
        "id": "yktGOUOzkdmJ"
      },
      "execution_count": null,
      "outputs": []
    },
    {
      "cell_type": "code",
      "source": [
        "image.shape"
      ],
      "metadata": {
        "colab": {
          "base_uri": "https://localhost:8080/"
        },
        "id": "2O0COcKTkqTM",
        "outputId": "2da734be-ac11-4cb1-f190-eddac12d109d"
      },
      "execution_count": null,
      "outputs": [
        {
          "output_type": "execute_result",
          "data": {
            "text/plain": [
              "(224, 224, 3)"
            ]
          },
          "metadata": {},
          "execution_count": 34
        }
      ]
    },
    {
      "cell_type": "code",
      "source": [
        "pred = model.predict(image.reshape(1,224,224,3))"
      ],
      "metadata": {
        "colab": {
          "base_uri": "https://localhost:8080/"
        },
        "id": "5eKYjNJjktgR",
        "outputId": "45a1cd5a-794c-4ae4-acb1-6450167d51cf"
      },
      "execution_count": null,
      "outputs": [
        {
          "output_type": "stream",
          "name": "stdout",
          "text": [
            "1/1 [==============================] - 1s 1s/step\n"
          ]
        }
      ]
    },
    {
      "cell_type": "code",
      "source": [
        "pred"
      ],
      "metadata": {
        "colab": {
          "base_uri": "https://localhost:8080/"
        },
        "id": "36Jm7IJwkvth",
        "outputId": "ec7531d2-44ca-48ee-bbd8-4b243bc57133"
      },
      "execution_count": null,
      "outputs": [
        {
          "output_type": "execute_result",
          "data": {
            "text/plain": [
              "array([[0.99231637, 0.00768364]], dtype=float32)"
            ]
          },
          "metadata": {},
          "execution_count": 36
        }
      ]
    },
    {
      "cell_type": "code",
      "source": [
        "np.argmax(pred, axis=1)"
      ],
      "metadata": {
        "colab": {
          "base_uri": "https://localhost:8080/"
        },
        "id": "56_hT7EjkyQD",
        "outputId": "b79eaf63-4f45-43f5-e4fb-aca8e68d0433"
      },
      "execution_count": null,
      "outputs": [
        {
          "output_type": "execute_result",
          "data": {
            "text/plain": [
              "array([0])"
            ]
          },
          "metadata": {},
          "execution_count": 37
        }
      ]
    },
    {
      "cell_type": "code",
      "source": [
        "le.classes_"
      ],
      "metadata": {
        "colab": {
          "base_uri": "https://localhost:8080/"
        },
        "id": "9Vc7Jbeyk0RZ",
        "outputId": "42816399-cbf0-4771-bcb1-782682fa0cfe"
      },
      "execution_count": null,
      "outputs": [
        {
          "output_type": "execute_result",
          "data": {
            "text/plain": [
              "array(['play', 'stop'], dtype='<U4')"
            ]
          },
          "metadata": {},
          "execution_count": 38
        }
      ]
    },
    {
      "cell_type": "code",
      "source": [],
      "metadata": {
        "id": "KZBHPl3ik2KC"
      },
      "execution_count": null,
      "outputs": []
    }
  ]
}